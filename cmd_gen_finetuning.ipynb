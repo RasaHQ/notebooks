{
 "cells": [
  {
   "cell_type": "markdown",
   "metadata": {},
   "source": [
    "# Fine-tuning an LLM for Command Generation in CALM\n",
    "\n",
    "This is a worked example of how to efficiently fine-tune a base language model from [Hugging Face Hub](https://huggingface.co/models) using the [Unsloth](https://docs.unsloth.ai) and [TRL](https://huggingface.co/docs/trl/en/index) libraries for the task of command generation within [CALM](https://rasa.com/docs/rasa-pro/calm).\n",
    "\n",
    "Unsloth integrates with TRL in order to reduce the time and GPU memory required to fine-tune LLMs, when compared to using TRL exclusively.\n",
    "\n",
    "To run fine-tuning, you must have first [generated the dataset](https://rasa.com/rasa-pro/docs/operating/fine-tuning-recipe) files `train.jsonl` and `val.jsonl`, which must be in the [TRL instruction format](https://huggingface.co/docs/trl/en/sft_trainer#dataset-format-support)."
   ]
  },
  {
   "cell_type": "markdown",
   "metadata": {},
   "source": [
    "## 1. Configure fine-tuning environment\n",
    "\n",
    "This notebook has been tested on on a [GCP Vertex AI Workbench instance](https://cloud.google.com/vertex-ai/docs/workbench/instances/introduction) with machine type `a2-highgpu-1g` in the `asia-southeast1-b` zone, which had the following hardware:\n",
    "- Single NVIDIA A100 GPU (40GB VRAM)\n",
    "- 12 core CPU with 85GB RAM\n",
    "- 256GB disk\n",
    "\n",
    "It has also been tested on on a [AWS Sagemaker Notebook instance](https://docs.aws.amazon.com/sagemaker/latest/dg/nbi.html) with machine type `ml.g4dn.4xlarge` in the `eu-central-1` region, which had the following hardware:\n",
    "- Single NVIDIA T4 GPU (16GB VRAM)\n",
    "- 16 core CPU with 64GB RAM\n",
    "- 256GB disk\n",
    "\n",
    "In both setups, the notebook was executed in a Linux environment with the following software already installed:\n",
    "- Python 3.10\n",
    "- CUDA Toolkit 12.1\n",
    "- PyTorch 2.2\n",
    "\n",
    "In order to run fine-tuning yourself, upload this notebook along with your dataset files to your own environment.\n",
    "\n",
    "It is highly recommended that you restart your notebook kernel and re-run all notebook cells every time you wish to perform fine-tuning.\n",
    "\n",
    "> Despite the fact that this notebook will work with a relatively underpowered GPU, such as the NVIDIA T4, running LLM fine-tuning and inference will be very slow.\n",
    ">\n",
    "> It is highly recommended that you use an NVIDIA A100 or other similar GPU types.\n",
    ">\n",
    "> The code presented here has been configured for use with an NVIDIA A100, please take note of later comments on the changes you should make to the code when using a different type of GPU.\n"
   ]
  },
  {
   "cell_type": "markdown",
   "metadata": {},
   "source": [
    "## 2. Install Python requirements\n",
    "\n",
    "The following `pip` commands will install Unsloth and other required Python packages when [Conda](https://anaconda.org/anaconda/conda) is used to manage your Python environment, which is the case for many Jupyter notebook runtimes.\n",
    "\n",
    "If Conda is not used in your environment, please follow [these alternative instructions](https://github.com/unslothai/unsloth?tab=readme-ov-file#pip-installation) for installing Unsloth."
   ]
  },
  {
   "cell_type": "code",
   "execution_count": null,
   "metadata": {},
   "outputs": [],
   "source": [
    "%%sh\n",
    "# install unsloth and other dependencies\n",
    "pip install \"unsloth[colab-new] @ git+https://github.com/unslothai/unsloth.git\"\n",
    "pip install --no-deps \"xformers<=0.0.26\" \"trl<0.9.0\" peft accelerate bitsandbytes huggingface_hub[cli]\n",
    "# remove tpu-only package that is installed by default on gcp runtimes, even when only using gpu\n",
    "pip uninstall torch-xla -y"
   ]
  },
  {
   "cell_type": "markdown",
   "metadata": {},
   "source": [
    "## 3. Download base model\n",
    "\n",
    "You can download the model you want to fine-tune from Hugging Face Hub using the [official CLI](https://huggingface.co/docs/huggingface_hub/en/guides/cli) with an [API access token](https://huggingface.co/docs/transformers.js/en/guides/private#step-1-generating-a-user-access-token) as per the code below. Make sure you first update the `HUGGINGFACE_TOKEN` and `BASE_MODEL` environment variables with your own values.\n",
    "\n",
    "When testing this notebook, the [Llama 3.1 8B Instruct](https://huggingface.co/meta-llama/Meta-Llama-3.1-8B-Instruct) model was used. Note that `meta-llama/Meta-Llama-3.1-8B-Instruct` is a [gated model](https://huggingface.co/docs/hub/en/models-gated) that you must first request access to before using. \n",
    "\n",
    "You can use any other PyTorch model available on [Hugging Face Hub](https://huggingface.co/models). It is recommended that you use a model that has been pre-trained on instructional tasks, such as the [CodeLlama 13B Instruct](https://huggingface.co/codellama/CodeLlama-13b-Instruct-hf) model.\n",
    "\n",
    "Pre-trained models with more parameters will generally perform better at tasks than models with fewer parameters. However, the size of model you can use is limited by how much memory your GPU has.\n",
    "\n",
    "Alternatively, if you already have a PyTorch model directory to hand, you can upload it to your notebook environment manually."
   ]
  },
  {
   "cell_type": "code",
   "execution_count": 2,
   "metadata": {
    "tags": []
   },
   "outputs": [
    {
     "name": "stderr",
     "output_type": "stream",
     "text": [
      "Fetching 17 files:   0%|          | 0/17 [00:00<?, ?it/s]Downloading 'generation_config.json' to 'base_model/.cache/huggingface/download/generation_config.json.cc7276afd599de091142c6ed3005faf8a74aa257.incomplete'\n",
      "Downloading 'USE_POLICY.md' to 'base_model/.cache/huggingface/download/USE_POLICY.md.81ebb55902285e8dd5804ccf423d17ffb2a622ee.incomplete'\n",
      "Downloading '.gitattributes' to 'base_model/.cache/huggingface/download/.gitattributes.a6344aac8c09253b3b630fb776ae94478aa0275b.incomplete'\n",
      "Downloading 'config.json' to 'base_model/.cache/huggingface/download/config.json.0bb6fd75b3ad2fe988565929f329945262c2814e.incomplete'\n",
      "Downloading 'model-00002-of-00004.safetensors' to 'base_model/.cache/huggingface/download/model-00002-of-00004.safetensors.09d433f650646834a83c580877bd60c6d1f88f7755305c12576b5c7058f9af15.incomplete'\n",
      "Downloading 'model-00001-of-00004.safetensors' to 'base_model/.cache/huggingface/download/model-00001-of-00004.safetensors.2b1879f356aed350030bb40eb45ad362c89d9891096f79a3ab323d3ba5607668.incomplete'\n",
      "Downloading 'README.md' to 'base_model/.cache/huggingface/download/README.md.bbd5630a05b65c1a8b25141bd11ec44844107d58.incomplete'\n",
      "Downloading 'LICENSE' to 'base_model/.cache/huggingface/download/LICENSE.a7c3ca16cee30425ed6ad841a809590f2bcbf290.incomplete'\n",
      "Download complete. Moving file to base_model/config.json\n",
      "Download complete. Moving file to base_model/.gitattributes\n",
      "Fetching 17 files:   6%|▌         | 1/17 [00:00<00:11,  1.42it/s]Download complete. Moving file to base_model/USE_POLICY.md\n",
      "Download complete. Moving file to base_model/generation_config.json\n",
      "Download complete. Moving file to base_model/LICENSE\n",
      "Download complete. Moving file to base_model/README.md\n",
      "Fetching 17 files:  18%|█▊        | 3/17 [00:00<00:03,  3.67it/s]Downloading 'model-00003-of-00004.safetensors' to 'base_model/.cache/huggingface/download/model-00003-of-00004.safetensors.fc1cdddd6bfa91128d6e94ee73d0ce62bfcdb7af29e978ddcab30c66ae9ea7fa.incomplete'\n",
      "Downloading 'model.safetensors.index.json' to 'base_model/.cache/huggingface/download/model.safetensors.index.json.0fd8120f1c6acddc268ebc2583058efaf699a771.incomplete'\n",
      "Downloading 'model-00004-of-00004.safetensors' to 'base_model/.cache/huggingface/download/model-00004-of-00004.safetensors.92ecfe1a2414458b4821ac8c13cf8cb70aed66b5eea8dc5ad9eeb4ff309d6d7b.incomplete'\n",
      "Downloading 'original/consolidated.00.pth' to 'base_model/.cache/huggingface/download/original/consolidated.00.pth.ab33d910f405204e5d388bc3521503584800461dc96808e287821dd451c1edac.incomplete'\n",
      "Downloading 'original/params.json' to 'base_model/.cache/huggingface/download/original/params.json.f1131204e79d0c09d2bac93f11569a8a655d68ba.incomplete'\n",
      "Downloading 'original/tokenizer.model' to 'base_model/.cache/huggingface/download/original/tokenizer.model.82e9d31979e92ab929cd544440f129d9ecd797b69e327f80f17e1c50d5551b55.incomplete'\n",
      "Download complete. Moving file to base_model/model.safetensors.index.json\n",
      "Download complete. Moving file to base_model/original/params.json\n",
      "Download complete. Moving file to base_model/original/tokenizer.model\n",
      "Downloading 'special_tokens_map.json' to 'base_model/.cache/huggingface/download/special_tokens_map.json.02ee80b6196926a5ad790a004d9efd6ab1ba6542.incomplete'\n",
      "Downloading 'tokenizer.json' to 'base_model/.cache/huggingface/download/tokenizer.json.5cc5f00a5b203e90a27a3bd60d1ec393b07971e8.incomplete'\n",
      "Download complete. Moving file to base_model/special_tokens_map.json\n",
      "Downloading 'tokenizer_config.json' to 'base_model/.cache/huggingface/download/tokenizer_config.json.db88166e2bc4c799fd5d1ae643b75e84d03ee70e.incomplete'\n",
      "Download complete. Moving file to base_model/tokenizer_config.json\n",
      "Download complete. Moving file to base_model/tokenizer.json\n",
      "Download complete. Moving file to base_model/model-00004-of-00004.safetensors\n",
      "Download complete. Moving file to base_model/model-00002-of-00004.safetensors\n",
      "Download complete. Moving file to base_model/model-00001-of-00004.safetensors\n",
      "Fetching 17 files:  41%|████      | 7/17 [00:32<00:55,  5.51s/it]Download complete. Moving file to base_model/model-00003-of-00004.safetensors\n",
      "Fetching 17 files:  53%|█████▎    | 9/17 [00:35<00:32,  4.12s/it]Download complete. Moving file to base_model/original/consolidated.00.pth\n",
      "Fetching 17 files: 100%|██████████| 17/17 [01:26<00:00,  5.10s/it]\n"
     ]
    },
    {
     "name": "stdout",
     "output_type": "stream",
     "text": [
      "/home/jupyter/Kat/base_model\n"
     ]
    }
   ],
   "source": [
    "%%sh\n",
    "# TODO: update with your values\n",
    "export HUGGINGFACE_TOKEN=\"CHANGEME\"\n",
    "export BASE_MODEL=\"meta-llama/Meta-Llama-3.1-8B-Instruct\"\n",
    "\n",
    "# download model\n",
    "huggingface-cli download \"${BASE_MODEL}\" \\\n",
    "    --token \"${HUGGINGFACE_TOKEN}\" \\\n",
    "    --local-dir \"./base_model\""
   ]
  },
  {
   "cell_type": "markdown",
   "metadata": {},
   "source": [
    "## 4. Load and quantize base model\n",
    "\n",
    "The [quantization of model parameters](https://huggingface.co/docs/optimum/en/concept_guides/quantization) can significantly reduce the GPU memory required to run model fine-tuning and inference, at the cost of model accuracy.\n",
    "\n",
    "Here, the base model is loaded from disk and quantized into an 8-bit representation on the fly using the [BitsAndBytes](https://huggingface.co/docs/transformers/main/en/quantization/bitsandbytes) library.\n",
    "\n",
    "If you are using a GPU with relatively little memory, such as the NVIDIA T4, or if you are using a base model larger than `meta-llama/Meta-Llama-3.1-8B-Instruct`, you may be required to use 4-bit quantization (e.g. `load_in_4bit = True`) in order to avoid \n",
    "out of memory (OOM) errors."
   ]
  },
  {
   "cell_type": "code",
   "execution_count": 3,
   "metadata": {
    "tags": []
   },
   "outputs": [
    {
     "name": "stdout",
     "output_type": "stream",
     "text": [
      "==((====))==  Unsloth 2024.9.post4: Fast Llama patching. Transformers = 4.44.2.\n",
      "   \\\\   /|    GPU: NVIDIA A100-SXM4-40GB. Max memory: 39.381 GB. Platform = Linux.\n",
      "O^O/ \\_/ \\    Pytorch: 2.2.0+cu121. CUDA = 8.0. CUDA Toolkit = 12.1.\n",
      "\\        /    Bfloat16 = TRUE. FA [Xformers = 0.0.25.post1. FA2 = False]\n",
      " \"-____-\"     Free Apache license: http://github.com/unslothai/unsloth\n"
     ]
    },
    {
     "data": {
      "application/vnd.jupyter.widget-view+json": {
       "model_id": "8ca7c5d2ff444d879da889ecb5ce15f8",
       "version_major": 2,
       "version_minor": 0
      },
      "text/plain": [
       "Loading checkpoint shards:   0%|          | 0/4 [00:00<?, ?it/s]"
      ]
     },
     "metadata": {},
     "output_type": "display_data"
    },
    {
     "name": "stderr",
     "output_type": "stream",
     "text": [
      "./base_model does not have a padding token! Will use pad_token = <|finetune_right_pad_id|>.\n"
     ]
    }
   ],
   "source": [
    "from transformers import BitsAndBytesConfig\n",
    "from unsloth import FastLanguageModel\n",
    "\n",
    "max_seq_length = 2048\n",
    "random_seed = 42\n",
    "\n",
    "\n",
    "# configure quantization method for base model\n",
    "quantization_config = BitsAndBytesConfig(\n",
    "    load_in_4bit = True,\n",
    ")\n",
    "\n",
    "# load quantized model and tokenizer from disk\n",
    "model, tokenizer = FastLanguageModel.from_pretrained(\n",
    "    model_name = \"./base_model\",\n",
    "    max_seq_length = max_seq_length,\n",
    "    quantization_config = quantization_config,\n",
    ")"
   ]
  },
  {
   "cell_type": "markdown",
   "metadata": {},
   "source": [
    "## 5. Configure base model for PEFT\n",
    "\n",
    "[Parameter Efficient Fine-Tuning](https://huggingface.co/blog/peft) (PEFT) is a technique for adapting LLMs for specific tasks by freezing all of the base model parameters and only training a relatively small number of additional parameters. Compared to fine-tuning all parameters, PEFT can significantly reduce the amount of GPU memory required at the cost of the fine-tuned model accuracy.\n",
    "\n",
    "In the code below, the base model is configured for PEFT using the [Low-Rank Adaptation](https://arxiv.org/pdf/2106.09685) (LoRA) method. It is recommended that you read the [official documentation](https://docs.unsloth.ai/basics/lora-parameters-encyclopedia) and experiment with the arguments of the `get_peft_model` method. For example, you may get better model performance with different values for `r` and `lora_alpha`."
   ]
  },
  {
   "cell_type": "code",
   "execution_count": 5,
   "metadata": {
    "tags": []
   },
   "outputs": [
    {
     "name": "stderr",
     "output_type": "stream",
     "text": [
      "Unsloth 2024.9.post4 patched 32 layers with 32 QKV layers, 32 O layers and 32 MLP layers.\n"
     ]
    }
   ],
   "source": [
    "from unsloth import FastLanguageModel\n",
    "\n",
    "# adapt model for peft\n",
    "model = FastLanguageModel.get_peft_model(\n",
    "    model,\n",
    "    r = 16,\n",
    "    target_modules = [\"q_proj\", \"k_proj\", \"v_proj\", \"o_proj\",\n",
    "                      \"gate_proj\", \"up_proj\", \"down_proj\",],\n",
    "    lora_alpha = 16,\n",
    "    lora_dropout = 0,\n",
    "    bias = \"none\",\n",
    "    use_gradient_checkpointing = \"unsloth\",\n",
    "    random_state = random_seed,\n",
    "    use_rslora = False,\n",
    "    loftq_config = None,\n",
    ")"
   ]
  },
  {
   "cell_type": "markdown",
   "metadata": {},
   "source": [
    "## 6. Load training and validation datasets\n",
    "\n",
    "The following code loads the training and validation datasets from the `train.jsonl` and `val.json` files, respectively\n",
    "\n",
    "As the files use the TRL instruction format, the TRL trainer used later will be able to [automatically parse](https://huggingface.co/docs/trl/en/sft_trainer#dataset-format-support) the datasets and [generate the prompts from a template](https://huggingface.co/docs/transformers/en/chat_templating) configured in the tokenizer.\n",
    "\n",
    "Prompt templates vary between models and TRL will infer the correct template from your base model. If this is not available in your base model or if you wish to change it, you can set your own [template string](https://huggingface.co/docs/transformers/en/chat_templating#advanced-adding-and-editing-chat-templates).\n",
    "\n",
    "You can also define your own [prompt formatting function](https://huggingface.co/docs/trl/en/sft_trainer#format-your-input-prompts) in order to have full control of how the prompts are constructed."
   ]
  },
  {
   "cell_type": "code",
   "execution_count": 6,
   "metadata": {
    "collapsed": true,
    "jupyter": {
     "outputs_hidden": true
    },
    "tags": []
   },
   "outputs": [
    {
     "name": "stdout",
     "output_type": "stream",
     "text": [
      "<|begin_of_text|><|start_header_id|>system<|end_header_id|>\n",
      "\n",
      "Cutting Knowledge Date: December 2023\n",
      "Today Date: 26 Jul 2024\n",
      "\n",
      "<|eot_id|><|start_header_id|>user<|end_header_id|>\n",
      "\n",
      "Your task is to analyze the current conversation context and generate a list of actions to start new business processes that we call flows, to extract slots, or respond to small talk and knowledge requests.\n",
      "\n",
      "These are the flows that can be started, with their description and slots:\n",
      "\n",
      "book_excursion: search and book an excursion\n",
      "    slot: trip_destination\n",
      "    slot: excursion_name (use the official name as stated by the assistant)\n",
      "    \n",
      "search_hotel: search for hotels\n",
      "    slot: trip_destination\n",
      "    slot: hotel_price_range\n",
      "    slot: hotel_start_date (check in date for the hotel. Do not fill this slot unless user explicitly specifies it in the conversation.)\n",
      "    slot: hotel_end_date (check out date for the hotel. Do not fill this slot unless user explicitly specifies it in the conversation.)\n",
      "    slot: hotel_search_results_readable\n",
      "    slot: hotel_name (Name of the hotel which the user has selected. Must be an exact element of the slot \"hotel_search_results_readable\". If the user wants an option that isn't listed, do not fill the slot with that value.)\n",
      "    \n",
      "search_rental_car: search for rental cars\n",
      "    slot: trip_destination\n",
      "    slot: car_rental_start_date\n",
      "    slot: car_rental_end_date\n",
      "    slot: car_rental_search_results_readable\n",
      "    slot: car_rental_selection (Car rental option which the user has selected. Must be an exact element of the slot car_rental_search_results_readable. If the user wants an option that isn't listed, do not fill the slot with that value.)\n",
      "    \n",
      "change_flight: change an existing booking to a new flight\n",
      "    slot: flight_search_start_date (start date for flight search. Refer to the current time available and always output this in the ISO format.)\n",
      "    slot: flight_search_end_date (end date for flight search. Refer to the current time available and always output this in the ISO format.)\n",
      "    slot: selected_flight_id (the selected id number from the search results presented to the user.)\n",
      "    \n",
      "list_bookings: list flight bookings - booked flights\n",
      "    \n",
      "goodbye: say goodbye to user\n",
      "    \n",
      "list_skills: tell the user what i can do\n",
      "    \n",
      "out_of_scope: trigger this if the user asks for something we don't have a flow for or an existing command does not apply for it. Conversation repair flow for off-topic interactions that won't disrupt the main conversation. should not respond to greetings or anything else for which there is a flow defined or an existing command is apt for it.\n",
      "    \n",
      "welcome: greet the user and ask how you can help\n",
      "    \n",
      "\n",
      "===\n",
      "Here is what happened previously in the conversation:\n",
      "\n",
      "USER: I'd like to book an excursion\n",
      "\n",
      "===\n",
      "\n",
      "You are currently not in any flow and so there are no active slots.\n",
      "This means you can only set a slot if you first start a flow that requires that slot.\n",
      "\n",
      "If you start a flow, first start the flow and then optionally fill that flow's slots with information the user provided in their message.\n",
      "\n",
      "The user just said \"\"\"I'd like to book an excursion\"\"\".\n",
      "\n",
      "===\n",
      "Based on this information generate a list of actions you want to take. Your job is to start flows and to fill slots where appropriate. Any logic of what happens afterwards is handled by the flow engine. These are your available actions:\n",
      "* Slot setting, described by \"SetSlot(slot_name, slot_value)\". An example would be \"SetSlot(recipient, Freddy)\"\n",
      "* Starting another flow, described by \"StartFlow(flow_name)\". An example would be \"StartFlow(transfer_money)\"\n",
      "* Cancelling the current flow, described by \"CancelFlow()\"\n",
      "* Clarifying which flow should be started. An example would be Clarify(list_contacts, add_contact, remove_contact) if the user just wrote \"contacts\" and there are multiple potential candidates. It also works with a single flow name to confirm you understood correctly, as in Clarify(transfer_money).\n",
      "* Intercepting and handle user messages with the intent to bypass the current step in the flow, described by \"SkipQuestion()\". Examples of user skip phrases are: \"Go to the next question\", \"Ask me something else\".\n",
      "* Responding to knowledge-oriented user messages, described by \"SearchAndReply()\"\n",
      "* Responding to a casual, non-task-oriented user message, described by \"ChitChat()\".\n",
      "* Handing off to a human, in case the user seems frustrated or explicitly asks to speak to one, described by \"HumanHandoff()\".\n",
      "\n",
      "===\n",
      "Write out the actions you want to take, one per line, in the order they should take place.\n",
      "Do not fill slots with abstract values or placeholders.\n",
      "Only use information provided by the user.\n",
      "Only start a flow if it's completely clear what the user wants. Imagine you were a person reading this message. If it's not 100% clear, clarify the next step.\n",
      "Don't be overly confident. Take a conservative approach and clarify before proceeding.\n",
      "If the user asks for two things which seem contradictory, clarify before starting a flow.\n",
      "If it's not clear whether the user wants to skip the step or to cancel the flow, cancel the flow.\n",
      "Strictly adhere to the provided action types listed above.\n",
      "Focus on the last message and take it one step at a time.\n",
      "Use the previous conversation steps only to aid understanding.\n",
      "\n",
      "Current time is \"2024-04-27 18:13:47.329404 +0000\" and it is a Saturday today!\n",
      "\n",
      "Your action list:<|eot_id|><|start_header_id|>assistant<|end_header_id|>\n",
      "\n",
      "StartFlow(book_excursion)<|eot_id|>\n"
     ]
    }
   ],
   "source": [
    "import datasets\n",
    "from trl.extras.dataset_formatting import get_formatting_func_from_dataset\n",
    "\n",
    "# load datasets from disk\n",
    "train_dataset = datasets.load_dataset(\n",
    "    \"json\", data_files={\"train\": \"train.jsonl\"}, split=\"train\"\n",
    ")\n",
    "eval_dataset = datasets.load_dataset(\n",
    "    \"json\", data_files={\"eval\": \"val.jsonl\"}, split=\"eval\"\n",
    ")\n",
    "\n",
    "# test prompt templating on example from dataset\n",
    "print(get_formatting_func_from_dataset(train_dataset, tokenizer)(eval_dataset[0]))"
   ]
  },
  {
   "cell_type": "code",
   "execution_count": 7,
   "metadata": {
    "tags": []
   },
   "outputs": [],
   "source": [
    "from unsloth.chat_templates import get_chat_template\n",
    "tokenizer = get_chat_template(\n",
    "    tokenizer,\n",
    "    chat_template = \"llama-3\", # Supports zephyr, chatml, mistral, llama, alpaca, vicuna, vicuna_old, unsloth\n",
    "    mapping = {\"role\" : \"from\", \"content\" : \"value\", \"user\" : \"human\", \"assistant\" : \"gpt\"}, # ShareGPT style\n",
    ")\n",
    "\n",
    "def formatting_prompts_func(examples):\n",
    "    convos = examples[\"messages\"]\n",
    "    texts = [tokenizer.apply_chat_template(convo, tokenize = False, add_generation_prompt = False) for convo in convos]\n",
    "    return { \"text\" : texts, }\n",
    "pass"
   ]
  },
  {
   "cell_type": "code",
   "execution_count": 8,
   "metadata": {
    "tags": []
   },
   "outputs": [
    {
     "data": {
      "application/vnd.jupyter.widget-view+json": {
       "model_id": "d042777b67034b73930ee8c65f015678",
       "version_major": 2,
       "version_minor": 0
      },
      "text/plain": [
       "Map:   0%|          | 0/715 [00:00<?, ? examples/s]"
      ]
     },
     "metadata": {},
     "output_type": "display_data"
    },
    {
     "data": {
      "application/vnd.jupyter.widget-view+json": {
       "model_id": "6db3c013953448fd8a38fb8366de9ba3",
       "version_major": 2,
       "version_minor": 0
      },
      "text/plain": [
       "Map:   0%|          | 0/198 [00:00<?, ? examples/s]"
      ]
     },
     "metadata": {},
     "output_type": "display_data"
    }
   ],
   "source": [
    "train_dataset = train_dataset.map(formatting_prompts_func, batched = True,)\n",
    "eval_dataset = eval_dataset.map(formatting_prompts_func, batched = True,)"
   ]
  },
  {
   "cell_type": "markdown",
   "metadata": {},
   "source": [
    "## 7. Configure trainer\n",
    "\n",
    "Below, the arguments for the supervised fine-tuning (SFT) trainer are configured. Their values were chosen somewhat arbitrarily and resulted in satisfactory results during testing.\n",
    "\n",
    "It is recommended that you read the official documentation and experiment with the arguments passed to `SFTConfig` (see [here](https://huggingface.co/docs/trl/main/en/sft_trainer#trl.SFTTrainer)) and `SFTTrainer` (see [here](https://huggingface.co/docs/trl/main/en/sft_trainer#trl.SFTTrainer)).\n",
    "\n",
    "For example:\n",
    "- If you get an OOM error when running fine-tuning, you can reduce `per_device_train_batch_size` in order to reduce the memory footprint. However, if your GPU has sufficient memory, you can try increasing it in order to reduce the total number of training steps.\n",
    "- Consider setting `max_steps`, as you may not need to perform all epochs in order to achieve optimal model accuracy. Conversely, you may see better model accuracy by increasing `num_train_epochs`.\n",
    "- If fine-tuning is taking too long, you can increase `eval_steps` in order to reduce how often validation is performed. "
   ]
  },
  {
   "cell_type": "code",
   "execution_count": 9,
   "metadata": {
    "tags": []
   },
   "outputs": [
    {
     "data": {
      "application/vnd.jupyter.widget-view+json": {
       "model_id": "684af28c5cc54c0a922be168857d4eb6",
       "version_major": 2,
       "version_minor": 0
      },
      "text/plain": [
       "Map (num_proc=2):   0%|          | 0/715 [00:00<?, ? examples/s]"
      ]
     },
     "metadata": {},
     "output_type": "display_data"
    },
    {
     "data": {
      "application/vnd.jupyter.widget-view+json": {
       "model_id": "edd3cfca6abf4f6fa275006a35fdc239",
       "version_major": 2,
       "version_minor": 0
      },
      "text/plain": [
       "Map (num_proc=2):   0%|          | 0/198 [00:00<?, ? examples/s]"
      ]
     },
     "metadata": {},
     "output_type": "display_data"
    }
   ],
   "source": [
    "import torch\n",
    "from transformers import TrainingArguments\n",
    "from trl import SFTTrainer\n",
    "from unsloth import is_bfloat16_supported\n",
    "\n",
    "# configure training args\n",
    "args = TrainingArguments(\n",
    "    ###### training\n",
    "    seed = random_seed,\n",
    "    per_device_train_batch_size = 2,\n",
    "    gradient_accumulation_steps = 4,\n",
    "    warmup_steps = 5,\n",
    "    #max_steps = 60,\n",
    "    num_train_epochs=2,\n",
    "    learning_rate = 2e-4,\n",
    "    lr_scheduler_type=\"linear\",\n",
    "    optim=\"adamw_8bit\",\n",
    "    weight_decay = 0.01,\n",
    "    ###### datatypes\n",
    "    fp16 = not is_bfloat16_supported(),\n",
    "    bf16 = is_bfloat16_supported(),\n",
    "    ###### evaluation\n",
    "    eval_strategy=\"steps\",\n",
    "    eval_steps=50,\n",
    "    per_device_eval_batch_size=8,\n",
    "    ###### outputs\n",
    "    logging_steps=30,\n",
    "    output_dir=\"outputs\",\n",
    ")\n",
    "\n",
    "# setup trainer\n",
    "trainer = SFTTrainer(\n",
    "    model=model,\n",
    "    tokenizer=tokenizer,\n",
    "    train_dataset=train_dataset,\n",
    "    eval_dataset=eval_dataset,\n",
    "    dataset_text_field = \"text\",\n",
    "    max_seq_length = max_seq_length,\n",
    "    dataset_num_proc = 2,\n",
    "    packing = False, # Can make training 5x faster for short sequences.\n",
    "    args=args,\n",
    ")"
   ]
  },
  {
   "cell_type": "markdown",
   "metadata": {},
   "source": [
    "## 8. Perform supervised fine-tuning\n",
    "\n",
    "In the code below, fine-tuning is performed using the previously congfigured trainer.\n",
    "\n",
    "When testing this step on an NVIDIA A100 using the configuration defined above, it took around 12 minutes to perform fine-tuning with a training dataset containing around 500 examples.\n",
    "\n",
    "After fine-tuning, the base model and fine-tuned adapters are [merged together and saved to disk](https://docs.unsloth.ai/basics/saving-models/saving-to-vllm) in 16-bit for future compatibility with the [vLLM](https://github.com/vllm-project/vllm) model serving library.\n",
    "\n",
    "If you are using a relatively small GPU, such as the NVIDIA T4, you may have to save the model in 4-bit instead (e.g. `save_method = \"merged_4bit_forced\"`)."
   ]
  },
  {
   "cell_type": "code",
   "execution_count": 10,
   "metadata": {
    "tags": []
   },
   "outputs": [
    {
     "name": "stderr",
     "output_type": "stream",
     "text": [
      "==((====))==  Unsloth - 2x faster free finetuning | Num GPUs = 1\n",
      "   \\\\   /|    Num examples = 715 | Num Epochs = 2\n",
      "O^O/ \\_/ \\    Batch size per device = 2 | Gradient Accumulation steps = 4\n",
      "\\        /    Total batch size = 8 | Total steps = 178\n",
      " \"-____-\"     Number of trainable parameters = 41,943,040\n"
     ]
    },
    {
     "data": {
      "text/html": [
       "\n",
       "    <div>\n",
       "      \n",
       "      <progress value='178' max='178' style='width:300px; height:20px; vertical-align: middle;'></progress>\n",
       "      [178/178 13:30, Epoch 1/2]\n",
       "    </div>\n",
       "    <table border=\"1\" class=\"dataframe\">\n",
       "  <thead>\n",
       " <tr style=\"text-align: left;\">\n",
       "      <th>Step</th>\n",
       "      <th>Training Loss</th>\n",
       "      <th>Validation Loss</th>\n",
       "    </tr>\n",
       "  </thead>\n",
       "  <tbody>\n",
       "    <tr>\n",
       "      <td>50</td>\n",
       "      <td>0.774300</td>\n",
       "      <td>0.032404</td>\n",
       "    </tr>\n",
       "    <tr>\n",
       "      <td>100</td>\n",
       "      <td>0.023300</td>\n",
       "      <td>0.029053</td>\n",
       "    </tr>\n",
       "    <tr>\n",
       "      <td>150</td>\n",
       "      <td>0.017100</td>\n",
       "      <td>0.028427</td>\n",
       "    </tr>\n",
       "  </tbody>\n",
       "</table><p>"
      ],
      "text/plain": [
       "<IPython.core.display.HTML object>"
      ]
     },
     "metadata": {},
     "output_type": "display_data"
    },
    {
     "name": "stdout",
     "output_type": "stream",
     "text": [
      "Unsloth: Merging 4bit and LoRA weights to 16bit...\n",
      "Unsloth: Will use up to 53.77 out of 83.48 RAM for saving.\n"
     ]
    },
    {
     "name": "stderr",
     "output_type": "stream",
     "text": [
      "100%|██████████| 32/32 [00:00<00:00, 69.47it/s]\n"
     ]
    },
    {
     "name": "stdout",
     "output_type": "stream",
     "text": [
      "Unsloth: Saving tokenizer... Done.\n",
      "Unsloth: Saving model... This might take 5 minutes for Llama-7b...\n",
      "Done.\n"
     ]
    }
   ],
   "source": [
    "# run fine-tuning\n",
    "finetune_metrics = trainer.train()\n",
    "\n",
    "# save model to disk in 16-bit\n",
    "model.save_pretrained_merged(\n",
    "    \"./finetuned_model\", tokenizer, save_method=\"merged_16bit\"\n",
    ")"
   ]
  },
  {
   "cell_type": "markdown",
   "metadata": {},
   "source": [
    "## 9. Visualize fine-tuning metrics\n",
    "\n",
    "Some of the metrics collected during fine-tuning are visualised below in order for you to diagnose any potential issues with the model.\n",
    "\n",
    "Specifically, the training and validation losses are plotted against the training step number. Please check the plot for the following:\n",
    "- Ideally, as the fine-tuning steps increase, the training and validation losses should decrease and converge. \n",
    "- If both loss curves do not converge, it may be worth performing more fine-tuning steps or epochs. This is known as [underfitting](https://www.ibm.com/topics/underfitting).\n",
    "- If the validation loss suddenly starts to increase while the training loss continues to decrease or converge, you should decrease your total number of steps or epochs. This is known as [overfitting](https://www.ibm.com/topics/overfitting)."
   ]
  },
  {
   "cell_type": "code",
   "execution_count": null,
   "metadata": {},
   "outputs": [],
   "source": [
    "import pandas as pd\n",
    "import matplotlib.pyplot as plt\n",
    "\n",
    "# plot step against train and val losses\n",
    "fig, ax = plt.subplots()\n",
    "log_history = pd.DataFrame(trainer.state.log_history)\n",
    "eval_loss = (\n",
    "    log_history[[\"step\", \"eval_loss\"]]\n",
    "    .dropna()\n",
    "    .plot(x=\"step\", ax=ax)\n",
    ")\n",
    "train_loss = (\n",
    "    log_history[[\"step\", \"loss\"]]\n",
    "    .dropna()\n",
    "    .plot(x=\"step\", ax=ax)\n",
    ")\n",
    "fig.show()"
   ]
  },
  {
   "cell_type": "markdown",
   "metadata": {},
   "source": [
    "## 10. Run ad hoc inference\n",
    "\n",
    "You can load your fine-tuned model from disk using Unsloth and use it to run optimized inference on individual inputs of your choosing using the code below.\n",
    "\n",
    "Note that the inputs passed to model are in the [TRL convertsational format](https://huggingface.co/docs/trl/en/sft_trainer#dataset-format-support) as the Hugging Face [chat template requires them to be](https://huggingface.co/docs/transformers/main/en/chat_templating#how-do-i-use-chat-templates). During training TRL will [automatically convert the instruction format to the conversational format](https://github.com/huggingface/trl/blob/main/trl/extras/dataset_formatting.py). However, you have to do this yourself when applying chat templates manually for inference."
   ]
  },
  {
   "cell_type": "code",
   "execution_count": null,
   "metadata": {},
   "outputs": [],
   "source": [
    "from transformers import TextStreamer\n",
    "from unsloth import FastLanguageModel\n",
    "\n",
    "model, tokenizer = FastLanguageModel.from_pretrained(\"./finetuned_model\")\n",
    "FastLanguageModel.for_inference(model)  # enable inference optimizations\n",
    "streamer = TextStreamer(tokenizer)  # stream model outputs as they are generated\n",
    "\n",
    "# the content to include in the input prompt\n",
    "# by default, a value from the validation dataset as example\n",
    "content = eval_dataset[\"prompt\"][0]\n",
    "\n",
    "# apply prompt template and tokenize\n",
    "input_ids = tokenizer.apply_chat_template(\n",
    "    [{\"role\": \"user\", \"content\": content}],  # in the TRL conversational format\n",
    "    tokenize=True,\n",
    "    add_generation_prompt=True,\n",
    "    return_tensors=\"pt\",\n",
    ").to(\"cuda\")\n",
    "\n",
    "# generate model output from user input\n",
    "_ = model.generate(\n",
    "    input_ids=input_ids,\n",
    "    streamer=streamer,  # remove streamer if you want whole output at end\n",
    "    max_new_tokens=64,  # set the limit on how many tokens are generated\n",
    "    do_sample=False,    # disable random sampling for deterministic outputs\n",
    ")"
   ]
  },
  {
   "cell_type": "markdown",
   "metadata": {},
   "source": [
    "## 11. Export fine-tuned model\n",
    "\n",
    "Lastly, export your fine-tuned model directory to an appropriate storage location that can be easily accessed later for [deployment](https://rasa.com/rasa-pro/docs/building-assistants/self-hosted-llm).\n",
    "\n",
    "It is recommended that you use a cloud object store, such as [Amazon S3](https://aws.amazon.com/s3/) or [Google Cloud Storage](https://cloud.google.com/storage).\n",
    "\n",
    "Uncomment and run the corresponding commands below for your cloud provider, making sure to first update the environment variables with your own values. It is assumed that:\n",
    "- your bucket already exists\n",
    "- you have already installed the CLI tool for your cloud provider\n",
    "- you have already authenticated with your cloud provider and have sufficient permissions to write to your bucket"
   ]
  },
  {
   "cell_type": "code",
   "execution_count": null,
   "metadata": {},
   "outputs": [],
   "source": [
    "%%sh\n",
    "export LOCAL_MODEL_PATH=\"./finetuned_model\"\n",
    "\n",
    "# if using amazon\n",
    "# export S3_MODEL_URI=\"s3://CHANGEME\" # update with your value\n",
    "# aws s3 cp \"${LOCAL_MODEL_PATH}\" \"${S3_MODEL_URI}\" --recursive\n",
    "\n",
    "# if using google\n",
    "# export GCS_MODEL_URI=\"gs://CHANGEME\" # update with your value\n",
    "# gsutil cp -r \"${LOCAL_MODEL_PATH}\" \"${GCS_MODEL_URI}\""
   ]
  }
 ],
 "metadata": {
  "environment": {
   "kernel": "python3",
   "name": ".m125",
   "type": "gcloud",
   "uri": "us-docker.pkg.dev/deeplearning-platform-release/gcr.io/:m125"
  },
  "kernelspec": {
   "display_name": "Python 3 (ipykernel)",
   "language": "python",
   "name": "python3"
  },
  "language_info": {
   "codemirror_mode": {
    "name": "ipython",
    "version": 3
   },
   "file_extension": ".py",
   "mimetype": "text/x-python",
   "name": "python",
   "nbconvert_exporter": "python",
   "pygments_lexer": "ipython3",
   "version": "3.8.18"
  }
 },
 "nbformat": 4,
 "nbformat_minor": 4
}
